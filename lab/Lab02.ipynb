{
 "cells": [
  {
   "cell_type": "markdown",
   "metadata": {},
   "source": [
    "[![AnalyticsDojo](https://s3.amazonaws.com/analyticsdojo/logo/final-logo.png)](http://www.analyticsdojo.com)\n",
    "<center><h1>Introduction to Python - Class Lab</h1></center>\n",
    "<center><h3><a href = 'http://rpi.analyticsdojo.com'>rpi.analyticsdojo.com</a></h3></center>\n",
    "\n",
    "\n"
   ]
  },
  {
   "cell_type": "markdown",
   "metadata": {},
   "source": [
    "## Intro\n",
    "\n",
    "The goal for these is to have short exercise breaks in class as we introduce new materials.  To make sure that everyone does it, they are included as part of the overall homework."
   ]
  },
  {
   "cell_type": "markdown",
   "metadata": {},
   "source": [
    "## Exercise After 01-intro-python-overview"
   ]
  },
  {
   "cell_type": "markdown",
   "metadata": {},
   "source": [
    "### Importing Packages\n",
    "This creates an Numpy array. Numpy is a common package that we will use to work with arrays. You can read more about Numpy [here](http://www.numpy.org/). Numpy is typically imported as `np`.\n",
    "\n",
    "`a = np.array([2,3,4])\n",
    "print(a)`\n",
    "\n",
    "To get this to work, you will have to import the Numpy package.  \n",
    "\n",
    "1. Verify that Numpy is installed. How did you know?  Describe how you would you install it if it wasn't installed? \n",
    "2. Provide the code to import numpy so that the code below works.  \n",
    "3. Import numpy as np and create an array `E2` with values `5,6,7,8`."
   ]
  },
  {
   "cell_type": "code",
   "execution_count": 2,
   "metadata": {},
   "outputs": [
    {
     "ename": "NameError",
     "evalue": "name 'numpy' is not defined",
     "output_type": "error",
     "traceback": [
      "\u001b[0;31m---------------------------------------------------------------------------\u001b[0m",
      "\u001b[0;31mNameError\u001b[0m                                 Traceback (most recent call last)",
      "\u001b[0;32m<ipython-input-2-975cd7c7c06f>\u001b[0m in \u001b[0;36m<module>\u001b[0;34m()\u001b[0m\n\u001b[0;32m----> 1\u001b[0;31m \u001b[0ma\u001b[0m \u001b[0;34m=\u001b[0m \u001b[0mnumpy\u001b[0m\u001b[0;34m.\u001b[0m\u001b[0marray\u001b[0m\u001b[0;34m(\u001b[0m\u001b[0;34m[\u001b[0m\u001b[0;36m2\u001b[0m\u001b[0;34m,\u001b[0m\u001b[0;36m3\u001b[0m\u001b[0;34m,\u001b[0m\u001b[0;36m4\u001b[0m\u001b[0;34m]\u001b[0m\u001b[0;34m)\u001b[0m\u001b[0;34m\u001b[0m\u001b[0m\n\u001b[0m\u001b[1;32m      2\u001b[0m \u001b[0mprint\u001b[0m\u001b[0;34m(\u001b[0m\u001b[0ma\u001b[0m\u001b[0;34m)\u001b[0m\u001b[0;34m\u001b[0m\u001b[0m\n",
      "\u001b[0;31mNameError\u001b[0m: name 'numpy' is not defined"
     ]
    }
   ],
   "source": [
    "a = numpy.array([2,3,4])\n",
    "print(a)"
   ]
  },
  {
   "cell_type": "markdown",
   "metadata": {},
   "source": [
    "#currently not working\n",
    "\n",
    "%%unittest_main\n",
    "class TestPackages(unittest.TestCase):\n",
    "    def test_packages1(self):\n",
    "        self.assertTrue((a == np.array([2,3,4])).all())\n",
    "    def test_packages2(self):\n",
    "        self.assertTrue((E2 == np.array([5,6,7,8])).all())"
   ]
  },
  {
   "cell_type": "markdown",
   "metadata": {},
   "source": [
    "## Exercise After 02-intro-python-datastructures"
   ]
  },
  {
   "cell_type": "markdown",
   "metadata": {},
   "source": [
    "### Sets and Dictionaries\n",
    "\n",
    "1. Create a set `eset1` with the following values (1,2,3,4,5).\n",
    "2. Create a new set `eset2` the following values (1,3,6).\n",
    "3. Create a new set `eset3` that is `eset1-eset2`.\n",
    "4. Create a new set `eset4` that is the union of `eset1+eset2`.\n",
    "5. Create a new set `eset5` that includes values that are in both `eset1` and `eset2` (intersection).\n",
    "6. Create a new dict `edict1` with the following keys and associated values: st1=45; st2=32; st3=40; st4=31.\n",
    "7. Create a new variable edict2 from edict 1 where the key is st3.\n",
    " "
   ]
  },
  {
   "cell_type": "markdown",
   "metadata": {},
   "source": [
    "## Exercise After 03-intro-python-numpy"
   ]
  },
  {
   "cell_type": "markdown",
   "metadata": {},
   "source": [
    "### Exercise-Numpy Array\n",
    "\n",
    "1. Create a new numpy array `nparray1` that is 3x3 and all the number 3 (should be integer type).\n",
    "2. Create a new variable `nparray1sum` that sums all of column 0.\n",
    "3. Create a new variable `nparray1mean` that takes the average of column 0. \n",
    "4. Create a new numpy array `nparray2` that selects only column 1 of `nparray1`.\n",
    "5. Create a new numpy array `nparray3` that is equal to `nparray1` times 2 (you should not alter `nparray1`).\n",
    "6. Create a new numpy array `nparray4` that is a verticle stack of `nparray1` and `nparray3`. "
   ]
  },
  {
   "cell_type": "markdown",
   "metadata": {},
   "source": [
    "## Exercise After 04-intro-python-pandas"
   ]
  },
  {
   "cell_type": "markdown",
   "metadata": {},
   "source": [
    "## Exercise-Pandas\n",
    "1. Using, the Iris dataset, find the mean of the sepalLength and assign it to the `sepalLengthMean` variable using the dataframe returned from the describe command.   \n",
    "2. Create a new dataframe `iristrain` that includes the first 75 rows of the iris dataframe.\n",
    "3. Create a new dataframe `iristest` that includes the last 75 rows of the iris dataframe.\n",
    "4. Create a new series `sepalLength` from the `sepalLength` column of the iris dataframe. "
   ]
  },
  {
   "cell_type": "markdown",
   "metadata": {},
   "source": [
    "## CREDITS\n",
    "\n",
    "\n",
    "Copyright [AnalyticsDojo](http://rpi.analyticsdojo.com) 2016\n",
    "This work is licensed under the [Creative Commons Attribution 4.0 International](https://creativecommons.org/licenses/by/4.0/) license agreement."
   ]
  }
 ],
 "metadata": {
  "anaconda-cloud": {},
  "kernelspec": {
   "display_name": "Python [conda root]",
   "language": "python",
   "name": "conda-root-py"
  },
  "language_info": {
   "codemirror_mode": {
    "name": "ipython",
    "version": 3
   },
   "file_extension": ".py",
   "mimetype": "text/x-python",
   "name": "python",
   "nbconvert_exporter": "python",
   "pygments_lexer": "ipython3",
   "version": "3.5.2"
  }
 },
 "nbformat": 4,
 "nbformat_minor": 2
}
